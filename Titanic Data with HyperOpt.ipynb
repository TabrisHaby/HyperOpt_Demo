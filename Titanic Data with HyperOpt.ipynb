{
 "cells": [
  {
   "cell_type": "markdown",
   "metadata": {},
   "source": [
    "Import Package and Data"
   ]
  },
  {
   "cell_type": "code",
   "execution_count": 159,
   "metadata": {},
   "outputs": [
    {
     "data": {
      "text/plain": [
       "['test.csv', 'train.csv']"
      ]
     },
     "execution_count": 159,
     "metadata": {},
     "output_type": "execute_result"
    }
   ],
   "source": [
    "import pandas as pd \n",
    "import seaborn as sns\n",
    "import matplotlib.pyplot as plt\n",
    "import numpy as np\n",
    "\n",
    "\n",
    "from sklearn.linear_model import LinearRegression,LogisticRegression\n",
    "from sklearn.ensemble import RandomForestClassifier,RandomForestRegressor\n",
    "\n",
    "from hyperopt import hp, tpe\n",
    "from hyperopt.fmin import fmin\n",
    "from sklearn.metrics import make_scorer\n",
    "\n",
    "from sklearn.model_selection import train_test_split,cross_val_score,StratifiedKFold,GridSearchCV\n",
    "\n",
    "from sklearn.preprocessing import RobustScaler\n",
    "from sklearn.feature_selection import RFECV\n",
    "\n",
    "import warnings\n",
    "warnings.filterwarnings(\"ignore\")\n",
    "\n",
    "\n",
    "\n",
    "\n",
    "import os\n",
    "os.listdir('E:\\Data_and_Script\\Titanic Data')"
   ]
  },
  {
   "cell_type": "code",
   "execution_count": 131,
   "metadata": {},
   "outputs": [
    {
     "name": "stdout",
     "output_type": "stream",
     "text": [
      "(891, 12) (418, 11)\n"
     ]
    }
   ],
   "source": [
    "train = pd.read_csv(r\"E:\\Data_and_Script\\Titanic Data\\train.csv\")\n",
    "test = pd.read_csv(r\"E:\\Data_and_Script\\Titanic Data\\test.csv\")\n",
    "print(train.shape,test.shape)"
   ]
  },
  {
   "cell_type": "markdown",
   "metadata": {},
   "source": [
    "Data Review"
   ]
  },
  {
   "cell_type": "code",
   "execution_count": 116,
   "metadata": {},
   "outputs": [
    {
     "data": {
      "text/html": [
       "<div>\n",
       "<style>\n",
       "    .dataframe thead tr:only-child th {\n",
       "        text-align: right;\n",
       "    }\n",
       "\n",
       "    .dataframe thead th {\n",
       "        text-align: left;\n",
       "    }\n",
       "\n",
       "    .dataframe tbody tr th {\n",
       "        vertical-align: top;\n",
       "    }\n",
       "</style>\n",
       "<table border=\"1\" class=\"dataframe\">\n",
       "  <thead>\n",
       "    <tr style=\"text-align: right;\">\n",
       "      <th></th>\n",
       "      <th>PassengerId</th>\n",
       "      <th>Survived</th>\n",
       "      <th>Pclass</th>\n",
       "      <th>Name</th>\n",
       "      <th>Sex</th>\n",
       "      <th>Age</th>\n",
       "      <th>SibSp</th>\n",
       "      <th>Parch</th>\n",
       "      <th>Ticket</th>\n",
       "      <th>Fare</th>\n",
       "      <th>Cabin</th>\n",
       "      <th>Embarked</th>\n",
       "    </tr>\n",
       "  </thead>\n",
       "  <tbody>\n",
       "    <tr>\n",
       "      <th>0</th>\n",
       "      <td>1</td>\n",
       "      <td>0</td>\n",
       "      <td>3</td>\n",
       "      <td>Braund, Mr. Owen Harris</td>\n",
       "      <td>male</td>\n",
       "      <td>22.0</td>\n",
       "      <td>1</td>\n",
       "      <td>0</td>\n",
       "      <td>A/5 21171</td>\n",
       "      <td>7.2500</td>\n",
       "      <td>NaN</td>\n",
       "      <td>S</td>\n",
       "    </tr>\n",
       "    <tr>\n",
       "      <th>1</th>\n",
       "      <td>2</td>\n",
       "      <td>1</td>\n",
       "      <td>1</td>\n",
       "      <td>Cumings, Mrs. John Bradley (Florence Briggs Th...</td>\n",
       "      <td>female</td>\n",
       "      <td>38.0</td>\n",
       "      <td>1</td>\n",
       "      <td>0</td>\n",
       "      <td>PC 17599</td>\n",
       "      <td>71.2833</td>\n",
       "      <td>C85</td>\n",
       "      <td>C</td>\n",
       "    </tr>\n",
       "    <tr>\n",
       "      <th>2</th>\n",
       "      <td>3</td>\n",
       "      <td>1</td>\n",
       "      <td>3</td>\n",
       "      <td>Heikkinen, Miss. Laina</td>\n",
       "      <td>female</td>\n",
       "      <td>26.0</td>\n",
       "      <td>0</td>\n",
       "      <td>0</td>\n",
       "      <td>STON/O2. 3101282</td>\n",
       "      <td>7.9250</td>\n",
       "      <td>NaN</td>\n",
       "      <td>S</td>\n",
       "    </tr>\n",
       "    <tr>\n",
       "      <th>3</th>\n",
       "      <td>4</td>\n",
       "      <td>1</td>\n",
       "      <td>1</td>\n",
       "      <td>Futrelle, Mrs. Jacques Heath (Lily May Peel)</td>\n",
       "      <td>female</td>\n",
       "      <td>35.0</td>\n",
       "      <td>1</td>\n",
       "      <td>0</td>\n",
       "      <td>113803</td>\n",
       "      <td>53.1000</td>\n",
       "      <td>C123</td>\n",
       "      <td>S</td>\n",
       "    </tr>\n",
       "    <tr>\n",
       "      <th>4</th>\n",
       "      <td>5</td>\n",
       "      <td>0</td>\n",
       "      <td>3</td>\n",
       "      <td>Allen, Mr. William Henry</td>\n",
       "      <td>male</td>\n",
       "      <td>35.0</td>\n",
       "      <td>0</td>\n",
       "      <td>0</td>\n",
       "      <td>373450</td>\n",
       "      <td>8.0500</td>\n",
       "      <td>NaN</td>\n",
       "      <td>S</td>\n",
       "    </tr>\n",
       "  </tbody>\n",
       "</table>\n",
       "</div>"
      ],
      "text/plain": [
       "   PassengerId  Survived  Pclass  \\\n",
       "0            1         0       3   \n",
       "1            2         1       1   \n",
       "2            3         1       3   \n",
       "3            4         1       1   \n",
       "4            5         0       3   \n",
       "\n",
       "                                                Name     Sex   Age  SibSp  \\\n",
       "0                            Braund, Mr. Owen Harris    male  22.0      1   \n",
       "1  Cumings, Mrs. John Bradley (Florence Briggs Th...  female  38.0      1   \n",
       "2                             Heikkinen, Miss. Laina  female  26.0      0   \n",
       "3       Futrelle, Mrs. Jacques Heath (Lily May Peel)  female  35.0      1   \n",
       "4                           Allen, Mr. William Henry    male  35.0      0   \n",
       "\n",
       "   Parch            Ticket     Fare Cabin Embarked  \n",
       "0      0         A/5 21171   7.2500   NaN        S  \n",
       "1      0          PC 17599  71.2833   C85        C  \n",
       "2      0  STON/O2. 3101282   7.9250   NaN        S  \n",
       "3      0            113803  53.1000  C123        S  \n",
       "4      0            373450   8.0500   NaN        S  "
      ]
     },
     "execution_count": 116,
     "metadata": {},
     "output_type": "execute_result"
    }
   ],
   "source": [
    "train.head()"
   ]
  },
  {
   "cell_type": "code",
   "execution_count": 117,
   "metadata": {},
   "outputs": [
    {
     "data": {
      "text/plain": [
       "PassengerId      int64\n",
       "Survived         int64\n",
       "Pclass           int64\n",
       "Name            object\n",
       "Sex             object\n",
       "Age            float64\n",
       "SibSp            int64\n",
       "Parch            int64\n",
       "Ticket          object\n",
       "Fare           float64\n",
       "Cabin           object\n",
       "Embarked        object\n",
       "dtype: object"
      ]
     },
     "execution_count": 117,
     "metadata": {},
     "output_type": "execute_result"
    }
   ],
   "source": [
    "train.dtypes"
   ]
  },
  {
   "cell_type": "code",
   "execution_count": 118,
   "metadata": {},
   "outputs": [
    {
     "data": {
      "text/html": [
       "<div>\n",
       "<style>\n",
       "    .dataframe thead tr:only-child th {\n",
       "        text-align: right;\n",
       "    }\n",
       "\n",
       "    .dataframe thead th {\n",
       "        text-align: left;\n",
       "    }\n",
       "\n",
       "    .dataframe tbody tr th {\n",
       "        vertical-align: top;\n",
       "    }\n",
       "</style>\n",
       "<table border=\"1\" class=\"dataframe\">\n",
       "  <thead>\n",
       "    <tr style=\"text-align: right;\">\n",
       "      <th></th>\n",
       "      <th>PassengerId</th>\n",
       "      <th>Survived</th>\n",
       "      <th>Pclass</th>\n",
       "      <th>Age</th>\n",
       "      <th>SibSp</th>\n",
       "      <th>Parch</th>\n",
       "      <th>Fare</th>\n",
       "    </tr>\n",
       "  </thead>\n",
       "  <tbody>\n",
       "    <tr>\n",
       "      <th>count</th>\n",
       "      <td>891.000000</td>\n",
       "      <td>891.000000</td>\n",
       "      <td>891.000000</td>\n",
       "      <td>714.000000</td>\n",
       "      <td>891.000000</td>\n",
       "      <td>891.000000</td>\n",
       "      <td>891.000000</td>\n",
       "    </tr>\n",
       "    <tr>\n",
       "      <th>mean</th>\n",
       "      <td>446.000000</td>\n",
       "      <td>0.383838</td>\n",
       "      <td>2.308642</td>\n",
       "      <td>29.699118</td>\n",
       "      <td>0.523008</td>\n",
       "      <td>0.381594</td>\n",
       "      <td>32.204208</td>\n",
       "    </tr>\n",
       "    <tr>\n",
       "      <th>std</th>\n",
       "      <td>257.353842</td>\n",
       "      <td>0.486592</td>\n",
       "      <td>0.836071</td>\n",
       "      <td>14.526497</td>\n",
       "      <td>1.102743</td>\n",
       "      <td>0.806057</td>\n",
       "      <td>49.693429</td>\n",
       "    </tr>\n",
       "    <tr>\n",
       "      <th>min</th>\n",
       "      <td>1.000000</td>\n",
       "      <td>0.000000</td>\n",
       "      <td>1.000000</td>\n",
       "      <td>0.420000</td>\n",
       "      <td>0.000000</td>\n",
       "      <td>0.000000</td>\n",
       "      <td>0.000000</td>\n",
       "    </tr>\n",
       "    <tr>\n",
       "      <th>25%</th>\n",
       "      <td>223.500000</td>\n",
       "      <td>0.000000</td>\n",
       "      <td>2.000000</td>\n",
       "      <td>20.125000</td>\n",
       "      <td>0.000000</td>\n",
       "      <td>0.000000</td>\n",
       "      <td>7.910400</td>\n",
       "    </tr>\n",
       "    <tr>\n",
       "      <th>50%</th>\n",
       "      <td>446.000000</td>\n",
       "      <td>0.000000</td>\n",
       "      <td>3.000000</td>\n",
       "      <td>28.000000</td>\n",
       "      <td>0.000000</td>\n",
       "      <td>0.000000</td>\n",
       "      <td>14.454200</td>\n",
       "    </tr>\n",
       "    <tr>\n",
       "      <th>75%</th>\n",
       "      <td>668.500000</td>\n",
       "      <td>1.000000</td>\n",
       "      <td>3.000000</td>\n",
       "      <td>38.000000</td>\n",
       "      <td>1.000000</td>\n",
       "      <td>0.000000</td>\n",
       "      <td>31.000000</td>\n",
       "    </tr>\n",
       "    <tr>\n",
       "      <th>max</th>\n",
       "      <td>891.000000</td>\n",
       "      <td>1.000000</td>\n",
       "      <td>3.000000</td>\n",
       "      <td>80.000000</td>\n",
       "      <td>8.000000</td>\n",
       "      <td>6.000000</td>\n",
       "      <td>512.329200</td>\n",
       "    </tr>\n",
       "  </tbody>\n",
       "</table>\n",
       "</div>"
      ],
      "text/plain": [
       "       PassengerId    Survived      Pclass         Age       SibSp  \\\n",
       "count   891.000000  891.000000  891.000000  714.000000  891.000000   \n",
       "mean    446.000000    0.383838    2.308642   29.699118    0.523008   \n",
       "std     257.353842    0.486592    0.836071   14.526497    1.102743   \n",
       "min       1.000000    0.000000    1.000000    0.420000    0.000000   \n",
       "25%     223.500000    0.000000    2.000000   20.125000    0.000000   \n",
       "50%     446.000000    0.000000    3.000000   28.000000    0.000000   \n",
       "75%     668.500000    1.000000    3.000000   38.000000    1.000000   \n",
       "max     891.000000    1.000000    3.000000   80.000000    8.000000   \n",
       "\n",
       "            Parch        Fare  \n",
       "count  891.000000  891.000000  \n",
       "mean     0.381594   32.204208  \n",
       "std      0.806057   49.693429  \n",
       "min      0.000000    0.000000  \n",
       "25%      0.000000    7.910400  \n",
       "50%      0.000000   14.454200  \n",
       "75%      0.000000   31.000000  \n",
       "max      6.000000  512.329200  "
      ]
     },
     "execution_count": 118,
     "metadata": {},
     "output_type": "execute_result"
    }
   ],
   "source": [
    "train.describe()"
   ]
  },
  {
   "cell_type": "markdown",
   "metadata": {},
   "source": [
    "Data Pre-processing"
   ]
  },
  {
   "cell_type": "markdown",
   "metadata": {},
   "source": [
    "- Data Merge"
   ]
  },
  {
   "cell_type": "code",
   "execution_count": 132,
   "metadata": {},
   "outputs": [
    {
     "data": {
      "text/plain": [
       "(1309, 12)"
      ]
     },
     "execution_count": 132,
     "metadata": {},
     "output_type": "execute_result"
    }
   ],
   "source": [
    "df = pd.concat([train,test])\n",
    "train_index = train.shape[0]\n",
    "df.shape"
   ]
  },
  {
   "cell_type": "markdown",
   "metadata": {},
   "source": [
    "- Imputation"
   ]
  },
  {
   "cell_type": "code",
   "execution_count": 120,
   "metadata": {},
   "outputs": [
    {
     "data": {
      "text/plain": [
       "Age             263\n",
       "Cabin          1014\n",
       "Embarked          2\n",
       "Fare              1\n",
       "Name              0\n",
       "Parch             0\n",
       "PassengerId       0\n",
       "Pclass            0\n",
       "Sex               0\n",
       "SibSp             0\n",
       "Survived        418\n",
       "Ticket            0\n",
       "dtype: int64"
      ]
     },
     "execution_count": 120,
     "metadata": {},
     "output_type": "execute_result"
    }
   ],
   "source": [
    "# missing values\n",
    "df.isnull().sum()"
   ]
  },
  {
   "cell_type": "code",
   "execution_count": 17,
   "metadata": {},
   "outputs": [
    {
     "data": {
      "image/png": "[encoded data removed]",
      "text/plain": [
       "<matplotlib.figure.Figure at 0x1eff3be3b70>"
      ]
     },
     "metadata": {},
     "output_type": "display_data"
    }
   ],
   "source": [
    "# consider which vairables to fit NAs\n",
    "sns.heatmap(df.corr(),annot = True,cmap='GnBu_r')\n",
    "plt.show()"
   ]
  },
  {
   "cell_type": "markdown",
   "metadata": {},
   "source": [
    "There are 4 variables with missing values, try to impute Age, Embarked and Fare and assign NAs in Cabin with X"
   ]
  },
  {
   "cell_type": "code",
   "execution_count": 133,
   "metadata": {
    "collapsed": true
   },
   "outputs": [],
   "source": [
    "mask = ~df.Fare.isnull()\n",
    "pred_fare = LinearRegression().fit(df.loc[mask,[\"Parch\",\"Pclass\",\"SibSp\"]],df.loc[mask,\"Fare\"]).predict(df.loc[~mask,[\"Parch\",\"Pclass\",\"SibSp\"]])\n",
    "df.loc[~mask,\"Fare\"] = pred_fare"
   ]
  },
  {
   "cell_type": "code",
   "execution_count": 134,
   "metadata": {
    "collapsed": true
   },
   "outputs": [],
   "source": [
    "mask = ~df.Embarked.isnull()\n",
    "pred_embarked = RandomForestClassifier().fit(df.loc[mask,[\"Fare\",\"Parch\",\"Pclass\",\"SibSp\"]],\n",
    "                                             df.loc[mask,\"Embarked\"]).predict(df.loc[~mask,[\"Fare\",\"Parch\",\"Pclass\",\"SibSp\"]])\n",
    "df.loc[~mask,\"Embarked\"] = pred_embarked"
   ]
  },
  {
   "cell_type": "code",
   "execution_count": 135,
   "metadata": {
    "collapsed": true
   },
   "outputs": [],
   "source": [
    "mask = ~df.Age.isnull()\n",
    "pred_age = RandomForestRegressor().fit(df.loc[mask,[\"Fare\",\"Parch\",\"Pclass\",\"SibSp\"]],\n",
    "                                        df.loc[mask,\"Age\"]).predict(df.loc[~mask,[\"Fare\",\"Parch\",\"Pclass\",\"SibSp\"]])\n",
    "df[\"New_Age\"] = df[\"Age\"]\n",
    "df.loc[~mask,\"New_Age\"] = pred_age"
   ]
  },
  {
   "cell_type": "code",
   "execution_count": 136,
   "metadata": {},
   "outputs": [
    {
     "data": {
      "image/png": "[encoded data removed]",
      "text/plain": [
       "<matplotlib.figure.Figure at 0x1eff5958278>"
      ]
     },
     "metadata": {},
     "output_type": "display_data"
    }
   ],
   "source": [
    "_,ax = plt.subplots(1,2,figsize = (12,4))\n",
    "sns.kdeplot(df.Age,ax = ax[0],color = \"red\")\n",
    "sns.kdeplot(df.New_Age,ax = ax[1])\n",
    "plt.show() # looks same"
   ]
  },
  {
   "cell_type": "code",
   "execution_count": 137,
   "metadata": {
    "collapsed": true
   },
   "outputs": [],
   "source": [
    "df = df.drop(\"Age\",axis = 1)\n",
    "df.loc[df[\"Cabin\"].isnull(),\"Cabin\"] = \"X\""
   ]
  },
  {
   "cell_type": "code",
   "execution_count": 64,
   "metadata": {},
   "outputs": [
    {
     "data": {
      "text/plain": [
       "Cabin            0\n",
       "Embarked         0\n",
       "Fare             0\n",
       "Name             0\n",
       "Parch            0\n",
       "PassengerId      0\n",
       "Pclass           0\n",
       "Sex              0\n",
       "SibSp            0\n",
       "Survived       418\n",
       "Ticket           0\n",
       "New_Age          0\n",
       "dtype: int64"
      ]
     },
     "execution_count": 64,
     "metadata": {},
     "output_type": "execute_result"
    }
   ],
   "source": [
    "df.isnull().sum()"
   ]
  },
  {
   "cell_type": "markdown",
   "metadata": {},
   "source": [
    "- Feature Extraction"
   ]
  },
  {
   "cell_type": "code",
   "execution_count": 138,
   "metadata": {
    "collapsed": true
   },
   "outputs": [],
   "source": [
    "# Family Name\n",
    "df[\"Family_name\"] = df.Name.apply(lambda x : x.split(\", \")[0])"
   ]
  },
  {
   "cell_type": "code",
   "execution_count": 139,
   "metadata": {
    "collapsed": true
   },
   "outputs": [],
   "source": [
    "# Title\n",
    "df[\"Title\"] = df.Name.apply(lambda x : x.split(\", \")[1].split(\". \")[0])"
   ]
  },
  {
   "cell_type": "code",
   "execution_count": 140,
   "metadata": {
    "collapsed": true
   },
   "outputs": [],
   "source": [
    "df[\"Cabin_\"] = df.Cabin.str[0]"
   ]
  },
  {
   "cell_type": "code",
   "execution_count": 191,
   "metadata": {
    "collapsed": true
   },
   "outputs": [],
   "source": [
    "label = df.Survived.astype(\"category\")\n",
    "df.Survived = df.Survived.astype(\"object\")"
   ]
  },
  {
   "cell_type": "markdown",
   "metadata": {},
   "source": [
    "EDA\n",
    "- Parch, Pclass, SibSp seem like cat variables"
   ]
  },
  {
   "cell_type": "code",
   "execution_count": 69,
   "metadata": {},
   "outputs": [
    {
     "data": {
      "image/png": "[encoded data removed]",
      "text/plain": [
       "<matplotlib.figure.Figure at 0x1eff3ec4da0>"
      ]
     },
     "metadata": {},
     "output_type": "display_data"
    }
   ],
   "source": [
    "# kdeplot for all numeric variables\n",
    "\n",
    "f = [\"Parch\",\"Pclass\",\"SibSp\",\"New_Age\",\"Fare\"]\n",
    "_,ax = plt.subplots(1,5,figsize = (18,4))\n",
    "for i,col in enumerate(f) :\n",
    "    sns.kdeplot(df[col],ax = ax[i-1])\n",
    "plt.show()    "
   ]
  },
  {
   "cell_type": "code",
   "execution_count": 70,
   "metadata": {},
   "outputs": [
    {
     "data": {
      "image/png": "[encoded data removed]",
      "text/plain": [
       "<matplotlib.figure.Figure at 0x1eff54c47f0>"
      ]
     },
     "metadata": {},
     "output_type": "display_data"
    }
   ],
   "source": [
    "_,ax = plt.subplots(1,3,figsize = (18,4))\n",
    "for i,col in enumerate([\"Embarked\",\"Sex\",\"Title\"]):\n",
    "    sns.countplot(df[col],ax = ax[i-1],palette = \"RdBu\",hue = label,dodge=True)\n",
    "plt.show()\n"
   ]
  },
  {
   "cell_type": "code",
   "execution_count": 71,
   "metadata": {},
   "outputs": [
    {
     "data": {
      "image/png": "[encoded data removed]",
      "text/plain": [
       "<matplotlib.figure.Figure at 0x1eff3ec47f0>"
      ]
     },
     "metadata": {},
     "output_type": "display_data"
    }
   ],
   "source": [
    "g = sns.FacetGrid(df, hue=\"Survived\",aspect = 2)\n",
    "g.map(sns.kdeplot,\"New_Age\")\n",
    "g.add_legend()\n",
    "plt.show()"
   ]
  },
  {
   "cell_type": "code",
   "execution_count": 72,
   "metadata": {},
   "outputs": [
    {
     "data": {
      "image/png": "[encoded data removed]",
      "text/plain": [
       "<matplotlib.figure.Figure at 0x1eff5cc1eb8>"
      ]
     },
     "metadata": {},
     "output_type": "display_data"
    }
   ],
   "source": [
    "g = sns.FacetGrid(df, hue=\"Survived\",aspect = 2)\n",
    "g.map(sns.kdeplot,\"Fare\")\n",
    "g.add_legend()\n",
    "plt.show()"
   ]
  },
  {
   "cell_type": "markdown",
   "metadata": {},
   "source": [
    "Feature Engineering\n",
    "- Size of group with same ticket number"
   ]
  },
  {
   "cell_type": "code",
   "execution_count": 142,
   "metadata": {
    "collapsed": true
   },
   "outputs": [],
   "source": [
    "c = df.groupby(\"Ticket\").size().reset_index(name='counts')\n",
    "c.columns.values[1] = \"Ticket_Size\"\n",
    "df = pd.merge(df,c,on = \"Ticket\")"
   ]
  },
  {
   "cell_type": "markdown",
   "metadata": {
    "collapsed": true
   },
   "source": [
    "- Size of group with same family name"
   ]
  },
  {
   "cell_type": "code",
   "execution_count": 143,
   "metadata": {
    "collapsed": true
   },
   "outputs": [],
   "source": [
    "c = df.groupby(\"Family_name\").size().reset_index(name='counts')\n",
    "c.columns.values[1] = \"Family_Name_Size\"\n",
    "df = pd.merge(df,c,on = \"Family_name\")"
   ]
  },
  {
   "cell_type": "markdown",
   "metadata": {
    "collapsed": true
   },
   "source": [
    "- Size of group by Fare"
   ]
  },
  {
   "cell_type": "code",
   "execution_count": 144,
   "metadata": {
    "collapsed": true
   },
   "outputs": [],
   "source": [
    "c = df.groupby(\"Fare\").size().reset_index(name='counts')\n",
    "c.columns.values[1] = \"Fare_Size\"\n",
    "df = pd.merge(df,c,on = \"Fare\")"
   ]
  },
  {
   "cell_type": "markdown",
   "metadata": {},
   "source": [
    " - Size of group by Cabin"
   ]
  },
  {
   "cell_type": "code",
   "execution_count": 145,
   "metadata": {
    "collapsed": true
   },
   "outputs": [],
   "source": [
    "c = df.groupby(\"Cabin\").size().reset_index(name='counts')\n",
    "c.columns.values[1] = \"Cabin_Size\"\n",
    "df = pd.merge(df,c,on = \"Cabin\")\n",
    "df.loc[df.Cabin == \"X\",\"Cabin_Size\"] = 0"
   ]
  },
  {
   "cell_type": "markdown",
   "metadata": {},
   "source": [
    "- Age\n",
    "\n",
    " - Age to factor variables\n",
    " \n",
    " Cut Age into different groups, by age = 16,32,60"
   ]
  },
  {
   "cell_type": "code",
   "execution_count": 146,
   "metadata": {
    "collapsed": true
   },
   "outputs": [],
   "source": [
    "df[\"Age_Group\"] = 0\n",
    "df.loc[df[\"New_Age\"] < 16,\"Age_Group\"] = 1\n",
    "df.loc[(df[\"New_Age\"] >= 16)&(df[\"New_Age\"] < 32),\"Age_Group\"] = 2\n",
    "df.loc[(df[\"New_Age\"] >= 32)&(df[\"New_Age\"] < 60),\"Age_Group\"] = 3\n",
    "df.loc[df[\"New_Age\"] >= 60,\"Age_Group\"] = 4"
   ]
  },
  {
   "cell_type": "code",
   "execution_count": 147,
   "metadata": {},
   "outputs": [
    {
     "data": {
      "image/png": "[encoded data removed]",
      "text/plain": [
       "<matplotlib.figure.Figure at 0x1eff68e1a58>"
      ]
     },
     "metadata": {},
     "output_type": "display_data"
    }
   ],
   "source": [
    "sns.countplot(df.Age_Group,hue = df.Survived)\n",
    "plt.show()"
   ]
  },
  {
   "cell_type": "code",
   "execution_count": 148,
   "metadata": {
    "collapsed": true
   },
   "outputs": [],
   "source": [
    "df[\"New_Fare\"] = RobustScaler().fit_transform(df[\"Fare\"].reshape(-1, 1))"
   ]
  },
  {
   "cell_type": "code",
   "execution_count": 149,
   "metadata": {
    "collapsed": true
   },
   "outputs": [],
   "source": [
    "df = df.drop([\"Name\",\"Ticket\",\"Family_name\",\"Cabin\",\"New_Age\",\"Fare\",\"Survived\"],axis = 1)\n",
    "df = df.sort_values(\"PassengerId\")\n",
    "df = df.drop([\"PassengerId\"],axis = 1)"
   ]
  },
  {
   "cell_type": "markdown",
   "metadata": {},
   "source": [
    "Baseline model"
   ]
  },
  {
   "cell_type": "code",
   "execution_count": 193,
   "metadata": {
    "collapsed": true
   },
   "outputs": [],
   "source": [
    "df_dummy = pd.get_dummies(df,drop_first=True)\n",
    "x_train,x_test,y_train,y_test = train_test_split(df_dummy.iloc[:train_index,:],label[:train_index],random_state = 1, test_size = 0.25)\n",
    "cv = StratifiedKFold(10,shuffle=False)"
   ]
  },
  {
   "cell_type": "code",
   "execution_count": 274,
   "metadata": {},
   "outputs": [
    {
     "name": "stdout",
     "output_type": "stream",
     "text": [
      "CV score is 0.8227181931676315 \n"
     ]
    }
   ],
   "source": [
    "baseline = LogisticRegression(random_state=1)\n",
    "baseline.fit(x_train,y_train)\n",
    "pred = baseline.predict(x_test)\n",
    "print(\"CV score is {} \".format(cross_val_score(baseline,df_dummy.iloc[:891,:],label[:891],cv = cv).mean()))"
   ]
  },
  {
   "cell_type": "markdown",
   "metadata": {
    "collapsed": true
   },
   "source": [
    "Modelling with parameter in hyperopt"
   ]
  },
  {
   "cell_type": "markdown",
   "metadata": {},
   "source": [
    "- Parameter Tuning"
   ]
  },
  {
   "cell_type": "code",
   "execution_count": null,
   "metadata": {
    "collapsed": true
   },
   "outputs": [],
   "source": [
    "def gini(truth, predictions):\n",
    "    g = np.asarray(np.c_[truth, predictions, np.arange(len(truth)) ], dtype=np.float)\n",
    "    g = g[np.lexsort((g[:,2], -1*g[:,1]))]\n",
    "    gs = g[:,0].cumsum().sum() / g[:,0].sum()\n",
    "    gs -= (len(truth) + 1) / 2.\n",
    "    return gs / len(truth)\n",
    "\n",
    "def gini_xgb(predictions, truth):\n",
    "    truth = truth.get_label()\n",
    "    return 'gini', -1.0 * gini(truth, predictions) / gini(truth, truth)\n",
    "\n",
    "def gini_lgb(truth, predictions):\n",
    "    score = gini(truth, predictions) / gini(truth, truth)\n",
    "    return 'gini', score, True\n",
    "\n",
    "def gini_sklearn(truth, predictions):\n",
    "    return gini(truth, predictions) / gini(truth, truth)\n",
    "\n",
    "gini_scorer = make_scorer(gini_sklearn, greater_is_better=True, needs_proba=True)"
   ]
  },
  {
   "cell_type": "code",
   "execution_count": 1,
   "metadata": {},
   "outputs": [
    {
     "ename": "NameError",
     "evalue": "name 'hp' is not defined",
     "output_type": "error",
     "traceback": [
      "\u001b[1;31m---------------------------------------------------------------------------\u001b[0m",
      "\u001b[1;31mNameError\u001b[0m                                 Traceback (most recent call last)",
      "\u001b[1;32m<ipython-input-1-0b1e7b91b76d>\u001b[0m in \u001b[0;36m<module>\u001b[1;34m()\u001b[0m\n\u001b[0;32m     21\u001b[0m     \u001b[1;32mreturn\u001b[0m \u001b[0mscore\u001b[0m\u001b[1;33m\u001b[0m\u001b[0m\n\u001b[0;32m     22\u001b[0m \u001b[1;33m\u001b[0m\u001b[0m\n\u001b[1;32m---> 23\u001b[1;33m space = hp.choice(\"classifier\",[\n\u001b[0m\u001b[0;32m     24\u001b[0m     {\"model\" : LogisticRegression,\n\u001b[0;32m     25\u001b[0m      \"params\" :{\n",
      "\u001b[1;31mNameError\u001b[0m: name 'hp' is not defined"
     ]
    }
   ],
   "source": [
    "def objective(args):\n",
    "    \n",
    "    \n",
    "    if args[\"model\"] == LogisticRegression :\n",
    "        \n",
    "        parameters = {\n",
    "            'C': args[\"params\"]['C'], \n",
    "            'tol': args[\"params\"]['tol']}\n",
    "        clf = LogisticRegression(random_state=1,n_jobs=4, **parameters)\n",
    "        \n",
    "    elif args[\"model\"] == RandomForestClassifier :\n",
    "        \n",
    "        parameters = {\n",
    "            \"n_estimators\" : int(args[\"params\"][\"n_estimators\"]),\n",
    "            \"max_depth\" :int(args[\"params\"][\"max_depth\"]),\n",
    "            \"min_samples_split\" : int(args[\"params\"][\"min_samples_split\"])}\n",
    "        clf = RandomForestClassifier(random_state=1,n_jobs = 4,**parameters)\n",
    "        \n",
    "    score = cross_val_score(clf, df_dummy.iloc[:train_index,:],label[:train_index], scoring=gini_scorer, cv=cv).mean()\n",
    "    print(\"Gini {:.3f} params {}\".format(score, parameters))\n",
    "    return score\n",
    "\n",
    "space = hp.choice(\"classifier\",[\n",
    "    {\"model\" : LogisticRegression,\n",
    "     \"params\" :{\n",
    "         'C': hp.uniform('C', 0.001,100),\n",
    "         \"tol\" : hp.uniform('tol', 0.00001,0.1)}   \n",
    "     },\n",
    "    {\"model\" : RandomForestClassifier,\n",
    "     \"params\" :{\n",
    "         'n_estimators': hp.quniform('n_estimators', 40, 500, 10),\n",
    "         'max_depth': hp.quniform('max_depth', 3, 10, 1),\n",
    "         \"min_samples_split\" : hp.quniform('min_samples_split', 2, 30, 1)\n",
    "     }\n",
    "    }\n",
    "])\n",
    "    \n",
    "\n",
    "best = fmin(fn=objective,\n",
    "            space=space,\n",
    "            algo=tpe.suggest,\n",
    "            max_evals=12)\n",
    "print(\"-\"*40)\n",
    "print(\"Hyperopt estimated optimum {}\".format(best))"
   ]
  },
  {
   "cell_type": "code",
   "execution_count": 268,
   "metadata": {},
   "outputs": [
    {
     "name": "stdout",
     "output_type": "stream",
     "text": [
      "Hyper optimization tuned score : 0.8384235614572694\n"
     ]
    }
   ],
   "source": [
    "rf_tuned = RandomForestClassifier(random_state=1,max_depth=10,min_samples_split=21,n_estimators=90)\n",
    "#rf.fit(df.iloc[:891,:],label[:891])\n",
    "print(\"Hyper optimization tuned score : {}\".format(cross_val_score(rf_tuned,\n",
    "                                                                   df_dummy.iloc[:891,:],label[:891],cv = cv).mean()))"
   ]
  },
  {
   "cell_type": "markdown",
   "metadata": {},
   "source": [
    "- Feature selection"
   ]
  },
  {
   "cell_type": "code",
   "execution_count": null,
   "metadata": {
    "collapsed": true
   },
   "outputs": [],
   "source": [
    "    def rfecv_plot(clf,train,y,selected_data = False) :\n",
    "\n",
    "        rfecv = RFECV(clf,cv = cv,step = 1)\n",
    "        rfecv.fit(train.iloc[:train_index,:],y[:train_index])\n",
    "\n",
    "        print(\"Best Score is {} for {} features\".format(max(rfecv.grid_scores_),rfecv.n_features_))\n",
    "\n",
    "        pd.Series(rfecv.grid_scores_).plot(title = \"CV Score for different features number\")\n",
    "        plt.show()\n",
    "\n",
    "        if selected_data == True :\n",
    "            return train.loc[:,rfecv.support_]"
   ]
  },
  {
   "cell_type": "code",
   "execution_count": 285,
   "metadata": {},
   "outputs": [
    {
     "name": "stdout",
     "output_type": "stream",
     "text": [
      "Best Score is 0.8395471569628873 for 31 features\n"
     ]
    },
    {
     "data": {
      "image/png": "[encoded data removed]",
      "text/plain": [
       "<matplotlib.figure.Figure at 0x1eff549d780>"
      ]
     },
     "metadata": {},
     "output_type": "display_data"
    }
   ],
   "source": [
    "rfecv_plot(rf_tuned,df_dummy,label)"
   ]
  },
  {
   "cell_type": "markdown",
   "metadata": {},
   "source": [
    "- GBM"
   ]
  },
  {
   "cell_type": "code",
   "execution_count": 275,
   "metadata": {},
   "outputs": [
    {
     "name": "stdout",
     "output_type": "stream",
     "text": [
      "In sample score : 0.8328050164567019\n",
      "Out sample socer : 0.8161434977578476\n"
     ]
    }
   ],
   "source": [
    "import xgboost as xgb\n",
    "\n",
    "xgb_clf = xgb.XGBClassifier(random_state=1)\n",
    "#rf.fit(df.iloc[:891,:],label[:891])\n",
    "print(\"In sample score : {}\".format(cross_val_score(xgb_clf,df_dummy.iloc[:891,:],label[:891],cv = cv).mean()))\n",
    "xgb_clf.fit(x_train,y_train)\n",
    "print(\"Out sample socer : {}\".format((xgb_clf.predict(x_test) == y_test).mean()))"
   ]
  },
  {
   "cell_type": "code",
   "execution_count": 289,
   "metadata": {},
   "outputs": [
    {
     "name": "stdout",
     "output_type": "stream",
     "text": [
      "Gini -0.769 params {'max_depth': 5, 'gamma': '0.439', 'colsample_bytree': '0.629', 'n_estimators': 534, 'learning_rate': '0.077'}\n",
      "Gini -0.747 params {'max_depth': 11, 'gamma': '0.254', 'colsample_bytree': '0.853', 'n_estimators': 408, 'learning_rate': '0.101'}\n",
      "Gini -0.734 params {'max_depth': 14, 'gamma': '0.078', 'colsample_bytree': '0.501', 'n_estimators': 414, 'learning_rate': '0.167'}\n",
      "Gini -0.731 params {'max_depth': 5, 'gamma': '0.042', 'colsample_bytree': '0.742', 'n_estimators': 547, 'learning_rate': '0.155'}\n",
      "Gini -0.750 params {'max_depth': 13, 'gamma': '0.248', 'colsample_bytree': '0.912', 'n_estimators': 437, 'learning_rate': '0.079'}\n",
      "Gini -0.775 params {'max_depth': 5, 'gamma': '0.441', 'colsample_bytree': '0.518', 'n_estimators': 142, 'learning_rate': '0.098'}\n",
      "Gini -0.759 params {'max_depth': 9, 'gamma': '0.287', 'colsample_bytree': '0.653', 'n_estimators': 118, 'learning_rate': '0.173'}\n",
      "Gini -0.747 params {'max_depth': 12, 'gamma': '0.007', 'colsample_bytree': '0.387', 'n_estimators': 555, 'learning_rate': '0.047'}\n",
      "Gini -0.769 params {'max_depth': 4, 'gamma': '0.102', 'colsample_bytree': '0.324', 'n_estimators': 401, 'learning_rate': '0.073'}\n",
      "Gini -0.759 params {'max_depth': 7, 'gamma': '0.188', 'colsample_bytree': '0.486', 'n_estimators': 540, 'learning_rate': '0.064'}\n",
      "----------------------------------------\n",
      "Hyperopt estimated optimum {'colsample_bytree': 0.5178656495703302, 'gamma': 0.4414147353707811, 'learning_rate': 0.09765428579155672, 'max_depth': 5.0, 'n_estimators': 142.0}\n"
     ]
    }
   ],
   "source": [
    "def objective(params):\n",
    "    params = {\n",
    "        'max_depth': int(params['max_depth']),\n",
    "        'gamma': \"{:.3f}\".format(params['gamma']),\n",
    "        'colsample_bytree': '{:.3f}'.format(params['colsample_bytree']),\n",
    "        'n_estimators' :int(params[\"n_estimators\"]),\n",
    "        'learning_rate': '{:.3f}'.format(params[\"learning_rate\"])\n",
    "    }\n",
    "    \n",
    "    clf = xgb.XGBClassifier(radom_state = 1,n_jobs=4,**params)\n",
    "    \n",
    "    score = cross_val_score(clf, df_dummy.iloc[:891,:],label[:891], scoring=gini_scorer, cv=cv).mean()\n",
    "    print(\"Gini {:.3f} params {}\".format(score, params))\n",
    "    return score\n",
    "\n",
    "space = {\n",
    "    'max_depth': hp.quniform('max_depth', 3, 14, 1),\n",
    "    'colsample_bytree': hp.uniform('colsample_bytree', 0.3, 1.0),\n",
    "    'gamma': hp.uniform('gamma', 0.0, 0.5),\n",
    "    'n_estimators': hp.quniform('n_estimators', 40, 600, 1),\n",
    "    'learning_rate': hp.uniform('learning_rate', 0.001, 0.2)\n",
    "    \n",
    "}\n",
    "\n",
    "best = fmin(fn=objective,\n",
    "            space=space,\n",
    "            algo=tpe.suggest,\n",
    "            max_evals=10)\n",
    "print(\"-\"*40)\n",
    "print(\"Hyperopt estimated optimum {}\".format(best))"
   ]
  },
  {
   "cell_type": "code",
   "execution_count": 290,
   "metadata": {},
   "outputs": [
    {
     "name": "stdout",
     "output_type": "stream",
     "text": [
      "Hyper optimization tuned score : 0.8271623538758369\n",
      "Out sample socer : 0.8071748878923767\n"
     ]
    }
   ],
   "source": [
    "xgb_tuned = xgb.XGBClassifier(radom_state = 1,\n",
    "                              max_depth=5,\n",
    "                              colsample_bytree=0.5178656495703302,\n",
    "                              gamma = 0.4414147353707811,\n",
    "                              learning_rate = 0.09765428579155672,\n",
    "                              n_estimators = 142)\n",
    "print(\"Hyper optimization tuned score : {}\".format(cross_val_score(xgb_tuned,df_dummy.iloc[:891,:],label[:891],cv = cv).mean()))\n",
    "xgb_tuned.fit(x_train,y_train)\n",
    "print(\"Out sample socer : {}\".format((xgb_tuned.predict(x_test) == y_test).mean()))"
   ]
  },
  {
   "cell_type": "code",
   "execution_count": 291,
   "metadata": {},
   "outputs": [
    {
     "name": "stdout",
     "output_type": "stream",
     "text": [
      "Best Score is 0.8349897854954035 for 20 features\n"
     ]
    },
    {
     "data": {
      "image/png": "[encoded data removed]",
      "text/plain": [
       "<matplotlib.figure.Figure at 0x1eff67f7898>"
      ]
     },
     "metadata": {},
     "output_type": "display_data"
    }
   ],
   "source": [
    "rfecv_plot(xgb_tuned,df_dummy,label)"
   ]
  }
 ],
 "metadata": {
  "kernelspec": {
   "display_name": "Python 3",
   "language": "python",
   "name": "python3"
  },
  "language_info": {
   "codemirror_mode": {
    "name": "ipython",
    "version": 3
   },
   "file_extension": ".py",
   "mimetype": "text/x-python",
   "name": "python",
   "nbconvert_exporter": "python",
   "pygments_lexer": "ipython3",
   "version": "3.6.3"
  }
 },
 "nbformat": 4,
 "nbformat_minor": 2
}
